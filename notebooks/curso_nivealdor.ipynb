{
 "cells": [
  {
   "cell_type": "markdown",
   "metadata": {
    "id": "7-U1IqJ9ERsD"
   },
   "source": [
    "# Curso Nivelador"
   ]
  },
  {
   "cell_type": "markdown",
   "metadata": {},
   "source": [
    "## Jupyter Notebook"
   ]
  },
  {
   "cell_type": "markdown",
   "metadata": {},
   "source": [
    "Jupyter Notebook es una aplicación web que nos permite crear y compartir documentos que contienen código Python, ecuaciones, visualizaciones y texto. Es una herramienta muy útil para desarrollar aplicaciones de Inteligencia Artificial, ya que nos permite ejecutar código Python en el navegador de forma interactiva.\n",
    "\n",
    "Para ejecutar Jupyter Notebook, debemos abrir Anaconda Navigator y pulsar el botón \"Launch\" en la sección de Jupyter Notebook. Una vez abierto el navegador, podemos crear un nuevo cuaderno pulsando el botón \"New\" y seleccionando la opción \"Python 3\". Una vez creado el cuaderno, podemos ejecutar código Python en las celdas de código."
   ]
  },
  {
   "cell_type": "markdown",
   "metadata": {
    "id": "E0EyqYFI6LUW"
   },
   "source": [
    "# Python"
   ]
  },
  {
   "cell_type": "markdown",
   "metadata": {
    "id": "UO9RdcCjChdE"
   },
   "source": [
    "**Python** es un lenguaje de propósito general, interpretado, interactivo, orientado objetos y de alto nivel. Python se ha hecho muy popular debido a su sintaxis clara, la facilidad como lenguaje para crear *scripts* y la cantidad de librerías populares que permiten solventar casi cualquier problema con el que el programador se enfrente.\n",
    "\n",
    "\n"
   ]
  },
  {
   "cell_type": "markdown",
   "metadata": {
    "id": "baEM63WoMdAy"
   },
   "source": [
    "Otra de las ventajas de *Python* es que se encuentra presente en Windows, macOS y la mayoría de distribuciones de Linux. Para poder utilizar este lenguaje es necesario primero hacer una instalación previa, pero como hemos comentado previamente, al utilizar un *Jupiter Notebook* podremos ejecutar aquí código sin necesidad de esa configuración."
   ]
  },
  {
   "cell_type": "markdown",
   "metadata": {
    "id": "LlvZg3mu6Ww3"
   },
   "source": [
    "## Hola Mundo\n",
    "\n"
   ]
  },
  {
   "cell_type": "code",
   "execution_count": null,
   "metadata": {
    "id": "Lw9zfB076cUC"
   },
   "outputs": [],
   "source": [
    "# First program\n",
    "print(\"Hello World\")"
   ]
  },
  {
   "cell_type": "markdown",
   "metadata": {
    "id": "D2PAKIyG61Qw"
   },
   "source": [
    "Aquí podemos ver nuestro primer programa en Python. Tan sencillo como escribir una línea de código para que se imprima en pantalla el mensaje que queramos."
   ]
  },
  {
   "cell_type": "markdown",
   "metadata": {
    "id": "evpBN8P-wy5b"
   },
   "source": [
    "<a name=\"analisis-lexico\"></a>\n",
    "## Análisis Léxico"
   ]
  },
  {
   "cell_type": "markdown",
   "metadata": {
    "id": "uWxMsIx7w2t9"
   },
   "source": [
    "El análisis léxico engloba a todos los tokens especiales que puede interpretar el interprete de Python.\n",
    "\n",
    "En la [guía oficial](https://docs.python.org/3/reference/lexical_analysis.html) se puede ver en más profundidad estos términos."
   ]
  },
  {
   "cell_type": "markdown",
   "metadata": {
    "id": "KA-Nedxqy7KC"
   },
   "source": [
    "### Identificadores y palabras reservadas\n",
    "\n"
   ]
  },
  {
   "cell_type": "markdown",
   "metadata": {
    "id": "e4tN92RCOV2g"
   },
   "source": [
    "Los identificadores son nombres usados para identificar una variable, función, clase, módulo u otro objeto. Los identificadores pueden empezar con letras (A-Za-z), números (0-9) o una barra baja (_).\n",
    "\n",
    "Python es un lenguaje que distingue entre mayúsculas y minúsculas, por lo que **Variable** y **variable** son dos identificadores diferentes en *Python*.\n",
    "\n",
    "\n",
    "\n",
    "\n"
   ]
  },
  {
   "cell_type": "code",
   "execution_count": null,
   "metadata": {
    "id": "hdpGs26rSzz8"
   },
   "outputs": [],
   "source": [
    "# Identifiers\n",
    "\n",
    "years_person = 10\n",
    "# yearPerson = 10\n",
    "# firstIdentifier = 10\n",
    "\n",
    "second_identifier = \"Hello\"\n",
    "\n",
    "third_identifier = { \"hello\": \"world\" }\n",
    "_private_identifier = \"Private\"\n",
    "\n",
    "if __name__ == \"__main__\":\n",
    "  print(\"This is a magic method\")\n",
    "  print(years_person)\n",
    "  print(third_identifier)"
   ]
  },
  {
   "cell_type": "markdown",
   "metadata": {
    "id": "oKa39rYQy_vd"
   },
   "source": [
    "### Lineas e identación\n"
   ]
  },
  {
   "cell_type": "markdown",
   "metadata": {
    "id": "4RM0zgUFQ6LK"
   },
   "source": [
    "Python no utiliza corchetes ({}) para indicar bloques de código dentro de las clases y funciones o control de flujo. En este lenguaje se utiliza la identación para indicar bloques, y se aplica sin ningún tipo de excepción.\n",
    "\n",
    "El número de  espacios puede variar dependiendo del intérprete (se suele elegir 2 o 4) pero una vez elegido debe respetarse, por ello este ejemplo no produce ningún error:"
   ]
  },
  {
   "cell_type": "code",
   "execution_count": null,
   "metadata": {
    "id": "m7jHD_aqSPhI"
   },
   "outputs": [],
   "source": [
    "if True:\n",
    "  print(\"Success\")\n",
    "else:\n",
    "  print(\"Failed\")\n",
    "\n",
    "print(\"this is running anyway\")"
   ]
  },
  {
   "cell_type": "markdown",
   "metadata": {
    "id": "DalLo6PYSVjt"
   },
   "source": [
    "Mientras que si se cambian los espacios se producirá un error, como indicará el intérprete en este trozo de código:"
   ]
  },
  {
   "cell_type": "code",
   "execution_count": null,
   "metadata": {
    "id": "G0C-3EJ0SdUr"
   },
   "outputs": [],
   "source": [
    "if True:\n",
    "print(\"Sucess\")\n",
    "else:\n",
    "  print(\"Failed\")"
   ]
  },
  {
   "cell_type": "markdown",
   "metadata": {
    "id": "ux7Fx1y1TO46"
   },
   "source": [
    "Hay algunas excepciones como las listas o la palabra reservada `\\`"
   ]
  },
  {
   "cell_type": "markdown",
   "metadata": {
    "id": "cLxlHPVtzBD2"
   },
   "source": [
    "### Comentarios"
   ]
  },
  {
   "cell_type": "markdown",
   "metadata": {
    "id": "DwxGP42iTfDI"
   },
   "source": [
    "El símbolo de la almohadilla (#) representa un comentario en Python, toda cadena que precede a este símbolo en una misma linea es considerado un comentario en Python y es tratado así por el interprete. Además de esto contamos con tres comillas para comentarios multilinea."
   ]
  },
  {
   "cell_type": "code",
   "execution_count": null,
   "metadata": {
    "id": "apNwLm3RUCLv"
   },
   "outputs": [],
   "source": [
    "# This is a comment\n",
    "\n",
    "test = \"string\" # You can place a comment after a line of code\n",
    "\n",
    "\n",
    "'''\n",
    "This is a multiline comment\n",
    "You can write multiple statements between the quotes\n",
    "'''\n"
   ]
  },
  {
   "cell_type": "markdown",
   "metadata": {
    "id": "HDHojXQj7Ey1"
   },
   "source": [
    "<a name=\"variables\"></a>\n",
    "## Variables y Tipos\n"
   ]
  },
  {
   "cell_type": "markdown",
   "metadata": {
    "id": "SLNLqX7qVHFl"
   },
   "source": [
    "Una variable es un espacio de memoria reservado dentro de una computadora para almacenar valores. En python la declaración se realiza al asignar un valor a una variable con el símbolo igual (=)\n"
   ]
  },
  {
   "cell_type": "code",
   "execution_count": null,
   "metadata": {
    "id": "xX0keeZb86ox"
   },
   "outputs": [],
   "source": [
    "# Variable asignment\n",
    "pi_number = 3.14\n",
    "\n",
    "print(pi_number)\n",
    "\n",
    "pi_number = \"hello world\"\n",
    "# Output variable\n",
    "print(pi_number)"
   ]
  },
  {
   "cell_type": "markdown",
   "metadata": {
    "id": "JhAa5Ikc8ccd"
   },
   "source": [
    "### Números"
   ]
  },
  {
   "cell_type": "markdown",
   "metadata": {
    "id": "0Ra_zkiRyLtv"
   },
   "source": [
    "El primer tipo de dato en *Python* que vamos a ver son números. Los números son objetos creados cuando asignas un valor numérico a una variable.\n",
    "\n",
    "*Python* soporta tres tipos de números:\n",
    "\n",
    "\n",
    "*   **int**: Enteros con signo (Python 3 aúna int y long)\n",
    "*   **float**: Números reales con coma flotante\n",
    "*   **complex**: Números complejos\n"
   ]
  },
  {
   "cell_type": "code",
   "execution_count": null,
   "metadata": {
    "id": "4P8uPS_H8fYA"
   },
   "outputs": [],
   "source": [
    "# Number examples\n",
    "\n",
    "# Integer\n",
    "int_number = 10\n",
    "print(int_number)\n",
    "# Float\n",
    "float_number = 12.40013243\n",
    "print(float_number)\n",
    "# Complex\n",
    "complex_number = 3.14j\n",
    "print(complex_number)\n"
   ]
  },
  {
   "cell_type": "markdown",
   "metadata": {
    "id": "VB1GGlM801iy"
   },
   "source": [
    "Algunas de las operaciones más importantes se pueden ver en su [documentación oficial](https://docs.python.org/3/library/stdtypes.html#numeric-types-int-float-complex)"
   ]
  },
  {
   "cell_type": "markdown",
   "metadata": {
    "id": "GKMBIsIQ8jzm"
   },
   "source": [
    "### Cadenas\n",
    "\n"
   ]
  },
  {
   "cell_type": "markdown",
   "metadata": {
    "id": "pnlgUDGw0Fxk"
   },
   "source": [
    "Las cadenas en Python se definen como una concatenación de caracteres representados entre comillas. Dentro de *Python* se pueden usar comillas simples ( ' ) o dobles ( \" ) para representar cadenas."
   ]
  },
  {
   "cell_type": "code",
   "execution_count": null,
   "metadata": {
    "id": "LyqTQuJQ8l2F"
   },
   "outputs": [],
   "source": [
    "# String examples\n",
    "name_person = 'Hello World'\n",
    "char = \"H\"\n",
    "str_2 = \"Hello World again\"\n",
    "\n",
    "print(name_person)\n",
    "print(char)\n",
    "print(str_2)\n",
    "print(name_person + \"  ->  \" + char)\n",
    "print(\"==============\")\n",
    "\n",
    "\n",
    "name_person = \"Other value\"\n",
    "print(name_person)\n",
    "print(\"==============\")\n",
    "\n",
    "# Substrings\n",
    "\n",
    "str1 = 'Hello World'\n",
    "str2 = 'Hello World again'\n",
    "\n",
    "print(str1[0]) # Prints first char\n",
    "print(str1[0:5]) # Prints first char\n",
    "print(str1[6:]) # Prints substring from second to sixth character\n",
    "print(str1[:7])\n",
    "print(str1[0:7])"
   ]
  },
  {
   "cell_type": "markdown",
   "metadata": {
    "id": "fylAKUtKzIAg"
   },
   "source": [
    "Algunas operaciones se pueden ver en la [documentación de Python](https://docs.python.org/3/tutorial/introduction.html#strings)\n",
    "\n"
   ]
  },
  {
   "cell_type": "markdown",
   "metadata": {
    "id": "_EKod0Ah1EIr"
   },
   "source": [
    "Es posible dar formato al texto de diferentes formas, algunas incorporadas en las últimas versiones de python."
   ]
  },
  {
   "cell_type": "code",
   "execution_count": null,
   "metadata": {
    "id": "AlHfOfiq1J8S"
   },
   "outputs": [],
   "source": [
    "# First form interpolation\n",
    "interpolation1 = \"Hello world I'm %s and I'm %d years old\" % (\"Javier\", 32)\n",
    "print(interpolation1)\n",
    "\n",
    "# Second form interpolation\n",
    "interpolation2 = \"Hello world I'm {0} and I'm {1} years old\".format(\"Javier\", 32)\n",
    "print(interpolation2)\n",
    "\n",
    "# Third form interpolation (Python 3.6)\n",
    "name = \"Lucas\"\n",
    "age = 32\n",
    "interpolation3 = f\"Hello world I'm {name} and I'm {age} years old\"\n",
    "print(interpolation3)"
   ]
  },
  {
   "cell_type": "markdown",
   "metadata": {
    "id": "FjMVV7rU3p4Q"
   },
   "source": [
    "Artículo sobre los distintos métodos de interpolación:\n",
    "\n",
    "https://realpython.com/python-f-strings/\n"
   ]
  },
  {
   "cell_type": "markdown",
   "metadata": {
    "id": "j7Cl9DOb8nvN"
   },
   "source": [
    "### Listas\n",
    "\n"
   ]
  },
  {
   "cell_type": "markdown",
   "metadata": {
    "id": "0dFymKqbqgYt"
   },
   "source": [
    "Las listas son colecciones ordenadas de elementos que pueden no ser del mismo tipo. En python las listas se definen con valores separados por comas contenidos entre corchetes."
   ]
  },
  {
   "cell_type": "code",
   "execution_count": null,
   "metadata": {
    "id": "4ptZAdURrCiW"
   },
   "outputs": [],
   "source": [
    "list_example_strings = [\"Hello\", \"World\", \"I'm\", \"John\"]\n",
    "print(list_example_strings)\n",
    "list_example_mix = [\"Hello\", 2, \"Number\", 16]\n",
    "print(list_example_mix)\n",
    "list_example_mix_crazy = [\"Hello\", [\"hello\", \"world\"], \"Number\", 16]\n",
    "print(list_example_mix_crazy)\n",
    "\n",
    "#accessing values\n",
    "element1 = list_example_strings[0]\n",
    "print(element1)\n",
    "\n",
    "# Error\n",
    "#element_fail = list_example_strings[9]\n",
    "#print(element_fail)\n",
    "\n",
    "print(\"===========\")\n",
    "\n",
    "# Add element\n",
    "first_list = [\"Hello\", \"World\"]\n",
    "first_list.append(\"Again\")\n",
    "print(first_list)\n",
    "first_list.insert(0, \"****\")\n",
    "print(len(first_list))\n",
    "print(first_list)\n",
    "\n",
    "\n",
    "print(\"===========\")\n",
    "\n",
    "# Update element\n",
    "updating_list = [\"Hello\", \"World\", 2017]\n",
    "updating_list[2] = 2023\n",
    "print(updating_list)\n",
    "\n",
    "# Slicing\n",
    "list_example = [\"Hello\", \"World\", \"I'm\", \"John\"]\n",
    "print(list_example[1:])\n",
    "\n",
    "# Simple indexing\n",
    "simple_index = list_example[-1]\n",
    "print(simple_index)"
   ]
  },
  {
   "cell_type": "markdown",
   "metadata": {
    "id": "DQMfpPHGX6Hw"
   },
   "source": [
    "Para ampliar sobre operadores, accesos, optimización y sintáxis podéis acceder a su [documentación](https://docs.python.org/3/tutorial/introduction.html#lists)"
   ]
  },
  {
   "cell_type": "markdown",
   "metadata": {
    "id": "NQFVcRwI8rkp"
   },
   "source": [
    "### Tuplas\n"
   ]
  },
  {
   "cell_type": "markdown",
   "metadata": {
    "id": "s0pmF0vgHof-"
   },
   "source": [
    "Las tuplas son secuencias inmutables de objetos en Python. Son muy parecidas a las listas con la diferencia que las listas es un conjunto de elementos variables mientras que las tuplas son inmutables. Para crear una tupla, se definen unos valores separados por comas contenidos entre paréntesis."
   ]
  },
  {
   "cell_type": "code",
   "execution_count": null,
   "metadata": {
    "id": "m4tN1bWyJ61b"
   },
   "outputs": [],
   "source": [
    "# Tuple examples\n",
    "tuple_example_mix = (\"Hello\", 2, \"Number\", 16)\n",
    "print(tuple_example_mix)\n",
    "\n",
    "tuple_not_parentesis = \"hello\", \"world\"\n",
    "print(tuple_not_parentesis)\n",
    "\n",
    "# tuples in functions\n",
    "def get_tuple():\n",
    "  return \"Hello\", \"World\"\n",
    "\n",
    "hello, world = get_tuple()\n",
    "\n",
    "print(f\"{hello} {world}\")\n",
    "print(hello)\n",
    "print(world)"
   ]
  },
  {
   "cell_type": "markdown",
   "metadata": {
    "id": "iTiWumA44I9F"
   },
   "source": [
    "Listas y Tuplas, artículo de refuerzo:\n",
    "\n",
    "https://realpython.com/python-lists-tuples/\n"
   ]
  },
  {
   "cell_type": "markdown",
   "metadata": {
    "id": "iP6R1L7M8vo-"
   },
   "source": [
    "### Diccionario"
   ]
  },
  {
   "cell_type": "markdown",
   "metadata": {
    "id": "jhTVMJ_YL-jd"
   },
   "source": [
    "Los diccionarios son una colección de valores sin orden que pueden intercambiarse y están indexados por una clave. Estas claves deben ser únicas, es decir, no puede haber repetición y mientras que el valor los valores puede mutar, las claves son inmutables."
   ]
  },
  {
   "cell_type": "code",
   "execution_count": null,
   "metadata": {
    "id": "2Peoql1pNPZ_"
   },
   "outputs": [],
   "source": [
    "# Dictionary definition\n",
    "empty_dict = {}\n",
    "print(empty_dict)\n",
    "string_dict = {\"first\": \"Hello\",\n",
    "               \"second\": \"World\"}\n",
    "print(f'{string_dict[\"first\"]} {string_dict[\"second\"]}')\n",
    "\n",
    "# Accesing Values\n",
    "string_dict = {\"first\": \"Hello\", \"second\": \"World\"}\n",
    "ex_str = string_dict[\"first\"]\n",
    "print(ex_str)\n",
    "\n",
    "# Adding values\n",
    "dict_test = {\"first\": \"Hello\", \"second\": \"World\"}\n",
    "dict_test[\"third\"] = [\"hola\"]\n",
    "print(dict_test)\n",
    "\n",
    "# Updating element\n",
    "dict_test = {\"first\": \"Hi\", \"second\": \"World\"}\n",
    "print(f\"We have this {dict_test}\")\n",
    "dict_test[\"first\"] = \"Hello\"\n",
    "print(f\"We have this {dict_test}\")"
   ]
  },
  {
   "cell_type": "markdown",
   "metadata": {
    "id": "QYOFtsdNPYds"
   },
   "source": [
    "Para conocer los métodos y funciones de los diccionarios [podéis visitar la documentación oficial](https://docs.python.org/3/tutorial/datastructures.html?highlight=dictionary#dictionaries)\n"
   ]
  },
  {
   "cell_type": "markdown",
   "metadata": {
    "id": "kWLu227B7yte"
   },
   "source": [
    "<a name=\"operadores\"></a>\n",
    "## Operadores\n",
    "\n"
   ]
  },
  {
   "cell_type": "markdown",
   "metadata": {
    "id": "uGxK6poISI57"
   },
   "source": [
    "Los operadores son construcciones de Python que pueden manipular el valor de los operandos."
   ]
  },
  {
   "cell_type": "markdown",
   "metadata": {
    "id": "UEWONKZc8QlM"
   },
   "source": [
    "### Operadores Aritméticos\n",
    "\n"
   ]
  },
  {
   "cell_type": "markdown",
   "metadata": {
    "id": "uLhYGD1hPy1T"
   },
   "source": [
    "Los operadores aritméticos  modifican el valor de una variable."
   ]
  },
  {
   "cell_type": "code",
   "execution_count": null,
   "metadata": {
    "id": "tx_sso228WsF"
   },
   "outputs": [],
   "source": [
    "# Ejemplo de operador aritmético\n",
    "a = 30\n",
    "b = 50\n",
    "\n",
    "# Addition\n",
    "add = a + b\n",
    "print(f\"add: {add}\")\n",
    "\n",
    "# Subtraction\n",
    "sub = a - b\n",
    "print(f\"sub: {sub}\")\n",
    "\n",
    "# Multiplication\n",
    "mul = a * b\n",
    "print(f\"mul: {mul}\")\n",
    "\n",
    "# Division\n",
    "div = a / b\n",
    "print(f\"div: {div}\")\n",
    "\n",
    "# Module\n",
    "modd = b % a\n",
    "print(f\"modd: {modd}\")\n",
    "\n",
    "# Exponent\n",
    "exp = a**b\n",
    "print(f\"exp: {exp}\")"
   ]
  },
  {
   "cell_type": "markdown",
   "metadata": {
    "id": "I681MK9s9Dc1"
   },
   "source": [
    "### Operadores de comparación"
   ]
  },
  {
   "cell_type": "markdown",
   "metadata": {
    "id": "Ym0Esv58Qj7m"
   },
   "source": [
    "Comparan los valores de ambos lados de la operación y decide la relación entre ambos."
   ]
  },
  {
   "cell_type": "code",
   "execution_count": null,
   "metadata": {
    "id": "glH-hslJ9GGy"
   },
   "outputs": [],
   "source": [
    "# Ejemplos de operadores de comparación\n",
    "a = 30\n",
    "b = 50\n",
    "\n",
    "# Equality\n",
    "eq = a == b\n",
    "print(f\"eq: {eq}\")\n",
    "\n",
    "# Inequality\n",
    "ieq = a != b\n",
    "print(f\"ieq: {ieq}\")\n",
    "\n",
    "# Greater\n",
    "gt = a > b\n",
    "print(f\"gt: {gt}\")\n",
    "\n",
    "# Less\n",
    "ls = a < b\n",
    "print(f\"ls: {ls}\")\n",
    "\n",
    "# Greater or equal\n",
    "gteq = a >= b\n",
    "print(f\"gteq: {gteq}\")\n",
    "\n",
    "# Less or equal\n",
    "lseq = a <= b\n",
    "print(f\"lseq: {lseq}\")\n"
   ]
  },
  {
   "cell_type": "markdown",
   "metadata": {
    "id": "IQi4sIX29IFC"
   },
   "source": [
    "### Operadores de asignación"
   ]
  },
  {
   "cell_type": "markdown",
   "metadata": {
    "id": "EKSA3-SWOQxS"
   },
   "source": [
    "Hemos visto estos operadores reiteradamente, pero vamos a explicar ahora las propiedades de algunos de ellos."
   ]
  },
  {
   "cell_type": "code",
   "execution_count": null,
   "metadata": {
    "id": "tRoElKRT9K4L"
   },
   "outputs": [],
   "source": [
    "# Ejemplos de operadores de asignación\n",
    "a = 30\n",
    "b = 50\n",
    "\n",
    "# Assignment (=)\n",
    "c = a + b\n",
    "print(c)\n",
    "\n",
    "# Addition with assignment\n",
    "c = 60\n",
    "c += a\n",
    "# c = c + a\n",
    "print(c)\n",
    "\n",
    "# Subtraction with assignment\n",
    "c = 60\n",
    "c -= a\n",
    "# c = c - a\n",
    "print(c)\n",
    "\n",
    "# Multiplication with assignment\n",
    "c = 60\n",
    "c *= a\n",
    "# c = c * a\n",
    "print(c)\n",
    "\n",
    "# Division with assignment\n",
    "c = 60\n",
    "c /= a\n",
    "# c = c / a\n",
    "print(c)"
   ]
  },
  {
   "cell_type": "markdown",
   "metadata": {
    "id": "Wvz440HIPDJQ"
   },
   "source": [
    "### Operadores lógicos, de identidad y pertenencia"
   ]
  },
  {
   "cell_type": "markdown",
   "metadata": {
    "id": "XmtRlWwvPL1M"
   },
   "source": [
    "Vamos a agrupar tres tipos de operadores que son utilizados detro de lso controles de flujo que veremos a continuación, todos devuelven  un tipo lógico (true or false) cuando se realiza la operación."
   ]
  },
  {
   "cell_type": "code",
   "execution_count": null,
   "metadata": {
    "id": "1KoQYN73PfSg"
   },
   "outputs": [],
   "source": [
    "a = 30\n",
    "b = 50\n",
    "c = [20, 30, 70, 80]\n",
    "at = True\n",
    "bf = False\n",
    "\n",
    "# AND operator\n",
    "print(at and bf)\n",
    "print(a > b and a < b)\n",
    "\n",
    "print(\"------------\")\n",
    "\n",
    "# OR operator\n",
    "print(at or bf)\n",
    "\n",
    "print(\"------------\")\n",
    "\n",
    "# NOT operator\n",
    "print(not at)\n",
    "\n",
    "print(\"------------\")\n",
    "\n",
    "# Membership\n",
    "print(a in c)\n",
    "\n",
    "print(\"------------\")\n",
    "\n",
    "# Not Membership\n",
    "print(a not in c)\n",
    "\n",
    "print(\"------------\")\n",
    "\n",
    "# Identity\n",
    "c = a\n",
    "print(c)\n",
    "print(a)\n",
    "print(a is c)\n",
    "print(a is b)\n",
    "\n",
    "# Not identity\n",
    "print(a is not c)\n",
    "print(a is not b)\n"
   ]
  },
  {
   "cell_type": "markdown",
   "metadata": {
    "id": "BK2Lxa0v9qRD"
   },
   "source": [
    "<a name=\"control-flujo\"></a>\n",
    "## Control de flujo\n",
    "\n"
   ]
  },
  {
   "cell_type": "markdown",
   "metadata": {
    "id": "P6izPw0XKNh2"
   },
   "source": [
    "En el nivel más elemental, un programa no es más que una ejecución secuencial de instrucciones. Esta ejecución tiene un flujo predefinido que el desarrollador querrá controlar con diversas técnicas.\n",
    "\n",
    "Para conocer más sobre el control de flujo el [tutorial que proporciona Python](https://docs.python.org/3/tutorial/controlflow.html) tiene todos los operadores necesarios."
   ]
  },
  {
   "cell_type": "markdown",
   "metadata": {
    "id": "F497nreo9xE_"
   },
   "source": [
    "### Decisión condicional"
   ]
  },
  {
   "cell_type": "code",
   "execution_count": null,
   "metadata": {
    "id": "H8OEWwYe94Wn"
   },
   "outputs": [],
   "source": [
    "# If example\n",
    "counter = 1\n",
    "if(counter == 5): #conditional test\n",
    "  print(\"We've reached 5\")\n",
    "  print(\"\")\n",
    "  print(\"\")\n",
    "print(\"i'm always running\")\n",
    "\n",
    "# If..else example\n",
    "if(counter == 6):\n",
    "  print(\"We've reached 6\")\n",
    "  print(\"Hello\")\n",
    "else:\n",
    "  print(\"We've got something else\")\n",
    "\n",
    "#counter += 1\n",
    "# Nested if\n",
    "if(counter == 1):\n",
    "  print(\"We've reached 1\")\n",
    "elif(counter == 2):\n",
    "  print(\"We've reached 2\")\n",
    "else:\n",
    "  print(\"We've got more than that\")\n"
   ]
  },
  {
   "cell_type": "markdown",
   "metadata": {
    "id": "enpvkheZ96ge"
   },
   "source": [
    "### Bucle \"for\""
   ]
  },
  {
   "cell_type": "code",
   "execution_count": null,
   "metadata": {
    "id": "pgHJVR1X-ARZ"
   },
   "outputs": [],
   "source": [
    "# For loop example\n",
    "elements = [1,2,3,4,5,6,7,8]\n",
    "\n",
    "for element in elements:\n",
    "  print(element)\n",
    "  print(\"Hola\")\n",
    "\n",
    "for letter in \"Hello World\":\n",
    "  print(letter)\n"
   ]
  },
  {
   "cell_type": "markdown",
   "metadata": {
    "id": "fXElGCPi-B_0"
   },
   "source": [
    "### Bucle \"while\""
   ]
  },
  {
   "cell_type": "code",
   "execution_count": null,
   "metadata": {
    "id": "1ZIMS2W9-IUX"
   },
   "outputs": [],
   "source": [
    "# While loop\n",
    "counter = 1\n",
    "\n",
    "while (counter < 9):\n",
    "  print(counter)\n",
    "  counter += 1"
   ]
  },
  {
   "cell_type": "code",
   "execution_count": null,
   "metadata": {
    "id": "3LySF0NiVm-F"
   },
   "outputs": [],
   "source": [
    "# While loop infinite DO NOT EXECUTE\n",
    "\n",
    "counter = 1\n",
    "\n",
    "while (counter != 2):\n",
    "  print(counter)\n",
    "  counter += 2\n"
   ]
  },
  {
   "cell_type": "markdown",
   "metadata": {
    "id": "34onjbj1MNvB"
   },
   "source": [
    "<a name=\"funciones\"></a>\n",
    "## Funciones"
   ]
  },
  {
   "cell_type": "markdown",
   "metadata": {
    "id": "M6DmpAuk1U_y"
   },
   "source": [
    "Una función es un bloque organizado de código reutilizable. Las funciones otorgan  modularidad a una aplicación y un nivel de reusabilidad. Hay varios consejos que debe seguir una función:\n",
    "\n",
    "\n",
    "\n",
    "*   Las funciones deben ser lo más nucleares posibles: Una función debe realizar una sola tarea con un objetivo claro\n",
    "*   Cualquier código que se repita en tu programa es candidato de convertirse en una función.\n",
    "*   Las funciones deben ser descriptivas en su funcionamiento: El nombre de la función debe  dar una descripción aproximada de su funcionamiento.\n",
    "\n"
   ]
  },
  {
   "cell_type": "code",
   "execution_count": null,
   "metadata": {
    "id": "jED7oLqi4_SC"
   },
   "outputs": [],
   "source": [
    "def function_example(parameter):\n",
    "  \"\"\"DocSttring\"\"\"\n",
    "  print(parameter)\n",
    "  return"
   ]
  },
  {
   "cell_type": "code",
   "execution_count": null,
   "metadata": {
    "id": "C0sGIg_l5V_g"
   },
   "outputs": [],
   "source": [
    "function_example(\"Hola Mundo\")"
   ]
  },
  {
   "cell_type": "markdown",
   "metadata": {
    "id": "t5_jbapP6GCc"
   },
   "source": [
    "Se puede realizar tantas llamadas como sea necesario, cambiando el valor de los parámetros cuando se quiera."
   ]
  },
  {
   "cell_type": "code",
   "execution_count": null,
   "metadata": {
    "id": "bo3K5QUe6QJ-"
   },
   "outputs": [],
   "source": [
    "function_example(\"Que tal estás\")\n",
    "function_example(\"Que tal asdfasdf\")\n",
    "function_example(\"Que tal estás\")"
   ]
  },
  {
   "cell_type": "markdown",
   "metadata": {
    "id": "dDRFHZ0dOS3m"
   },
   "source": [
    "### Parámetros de una función\n",
    "\n",
    "En Python pueden utilizarse cuatro tipos de argumentos en una función:\n",
    "\n",
    "\n",
    "\n"
   ]
  },
  {
   "cell_type": "markdown",
   "metadata": {
    "id": "5ZLyuRAhPCZ9"
   },
   "source": [
    "**Argumentos obligatorios**\n",
    "\n",
    "Los argumentos obligatorios son aquellos que se pasan a una función en el orden correcto y con el número exacto de variables para argumentos."
   ]
  },
  {
   "cell_type": "code",
   "execution_count": null,
   "metadata": {
    "id": "Dt66os2uPVCx"
   },
   "outputs": [],
   "source": [
    "def required_args(first, second, third):\n",
    "  print(first)\n",
    "  print(second)\n",
    "  print(third)\n",
    "\n",
    "required_args(\"first\", \"2\", \"third\")"
   ]
  },
  {
   "cell_type": "markdown",
   "metadata": {
    "id": "gMliZSlWZJ_y"
   },
   "source": [
    "**Argumentos por defecto**\n",
    "\n",
    "Un argumento por defecto es un argumento que asume su valor por defecto, estos argumentos siempre van después de los argumentos por clave y pueden ser omitidos en la llamada a la función."
   ]
  },
  {
   "cell_type": "code",
   "execution_count": null,
   "metadata": {
    "id": "3WJVpPfhZXSk"
   },
   "outputs": [],
   "source": [
    "def default_args(first, second, third=\"third\", fourht=\"4\"):\n",
    "  print(first)\n",
    "  print(second)\n",
    "  print(third)\n",
    "  print(fourht)\n",
    "  print(\"========\")\n",
    "\n",
    "# You can call the third value\n",
    "default_args(\"first\", \"second\", \"3\")\n",
    "\n",
    "# You can ommit the value\n",
    "default_args(\"first\", \"2\")\n",
    "\n",
    "# You can change the default value\n",
    "default_args(\"first\", \"second\", fourht=\"other\")"
   ]
  },
  {
   "cell_type": "markdown",
   "metadata": {
    "id": "X3u9rEV1ODCm"
   },
   "source": [
    "**Return**\n",
    "\n",
    "La palabra reservada **return** sirve para terminar una función y devolver una expresión a la linea de código que la ha llamado. Una función sin **return** es lo mismo que si devuelve None.\n",
    "\n",
    "Puede devolverse cualquier valor, y como mencionamos en el curso anterior, pueden **devolverse múltiple valores mediante tuplas.**"
   ]
  },
  {
   "cell_type": "code",
   "execution_count": null,
   "metadata": {
    "id": "2gKg5ozPd5Z8"
   },
   "outputs": [],
   "source": [
    "def simple_sum(a, b):\n",
    "  return a + b\n",
    "\n",
    "result = simple_sum(4, 2)\n",
    "simple_sum(4, 8)\n",
    "print(result)\n",
    "\n",
    "\n",
    "def increment_two_values(a, b):\n",
    "  a += 1\n",
    "  b += 1\n",
    "  return a, b\n",
    "\n",
    "inc_1, inc_2 = increment_two_values(3, 5)\n",
    "print(f\"{inc_1} and {inc_2}\")\n"
   ]
  },
  {
   "cell_type": "markdown",
   "metadata": {
    "id": "1JbAE6Zkh39x"
   },
   "source": [
    "<a name=\"orientacion-objetos\"></a>\n",
    "## Python Orientado a Objetos\n",
    "\n",
    "\n",
    "\n",
    "\n",
    "\n"
   ]
  },
  {
   "cell_type": "markdown",
   "metadata": {
    "id": "VkrKnJlyWXlr"
   },
   "source": [
    "Podemos decir que en la Orientación a Objetos estructuramos **variables** y **funciones** en unidades lógicas, lo que llamaremos objetos. Estas **variables** son lo que hemos llamado **atributos** y las **funciones** serán los **métodos**.\n",
    "\n",
    "Un ejemplo de objeto sería un coche. Un coche tiene **atributos** importantes como el color, el modelo, el año y el tipo de gasolina. Además podemos interactuar con el objeto mediante sus **métodos** como arrancar, o acelerar.\n",
    "\n",
    "Aunque sea sorprendente, ya hemos usado múltiples objetos en Python, por ejemplo las listas. Las listas tienen **métodos** como append(), clear() o copy() y se organizan en unidades lógicas con una función.\n",
    "\n"
   ]
  },
  {
   "cell_type": "markdown",
   "metadata": {
    "id": "CuJ4aaF8MdZf"
   },
   "source": [
    "### Clases"
   ]
  },
  {
   "cell_type": "markdown",
   "metadata": {
    "id": "Jh589It8mvgM"
   },
   "source": [
    "Son \"prototipos\" definidos por el programador que sirven como modelo para los atributos y los métodos de un objeto. Se podría hacer una analogía con las recetas de un plato. Con las clases podemos definir qué valores tendrá el objeto y qué podrá hacer.\n",
    "\n",
    "Para crear una clase solo necesitamos declarar la palabra reservada *class* y definir la clase interna:\n",
    "\n",
    "\n",
    "\n",
    "```\n",
    "class NewClass(object):\n",
    "    # Documentation\n",
    "    class_body\n",
    "```\n",
    "\n",
    "Así podremos ver un ejemplo de clase completo con un coche:\n"
   ]
  },
  {
   "cell_type": "code",
   "execution_count": null,
   "metadata": {
    "id": "ysh-6mHvowU2"
   },
   "outputs": [],
   "source": [
    "class Car(object):\n",
    "  'Common class for a car object'\n",
    "  total_cars = 0 #secuencial number\n",
    "\n",
    "  # Declaration\n",
    "  def __init__(self, model, color, id=\"2342FSD\", height=2):\n",
    "    self.model = model\n",
    "    self.color = color\n",
    "    self.id = id\n",
    "    self.height = height\n",
    "    Car.total_cars += 1\n",
    "\n",
    "  def get_model(self):\n",
    "    return self.model\n",
    "\n",
    "  def print_model(self):\n",
    "    print(f\"The car is {self.model}\")\n",
    "\n",
    "  def print_total_cars(self):\n",
    "    print(f\"Total amount of cars: {Car.total_cars}\")\n",
    "\n",
    "  def print_color(self):\n",
    "    print(f\"The color of the car is {self.color}\")\n",
    "\n",
    "  def start(self):\n",
    "    print(\"Engine running\")\n"
   ]
  },
  {
   "cell_type": "markdown",
   "metadata": {
    "id": "xVZJinPsppEv"
   },
   "source": [
    "Aquí podemos ver tres elementos importantes:\n",
    "\n",
    "\n",
    "\n",
    "*   La variable *total_cars* es una variable compartida por todas las instancias de la clase, puede acceder estáticamente a través de una instancia *ClassName.variable*, en este caso *Car.serial_number*\n",
    "*   El primer método *\\_\\_init__()* es un método especial reservado a la inicialización del objeto, llamado **constructor**. Este es llamado cuando se instancia un objeto.\n",
    "*    Se declaran los atributos y los métodos, que son proipos de cada instancia. Para ello se usa la palabra reservada *self* tanto como primer argumento de un método como para referenciar a un atributo.\n",
    "\n"
   ]
  },
  {
   "cell_type": "markdown",
   "metadata": {
    "id": "0_EoHd95z5Pw"
   },
   "source": [
    "### Objetos"
   ]
  },
  {
   "cell_type": "markdown",
   "metadata": {
    "id": "eqyjOfQMka5p"
   },
   "source": [
    "Un objeto es una instancia de una estructura de datos definida en una clase. Un objeto se compone tanto de **atributos** de clase como de métodos.\n",
    "\n",
    "Para crear una instancia de una clase, solo hay que asignar a una variable la llamada al constructor de una clase y pasar los argumentos que acepta el constructor *\\_\\_init__*\n",
    "\n",
    "En Python la instanciación de un objeto sería de la siguiente forma:\n",
    "\n",
    "\n",
    "\n",
    "```\n",
    "inst_object = NewClass(attribute)\n",
    "```\n",
    "\n"
   ]
  },
  {
   "cell_type": "code",
   "execution_count": null,
   "metadata": {
    "id": "L_xanQbplEd1"
   },
   "outputs": [],
   "source": [
    "# Objetc instantiation\n",
    "\n",
    "opel_car = Car(\"opel\", \"red\", \"67458IUK\")\n",
    "\n",
    "default_car = Car(\"test\", \"red\")\n",
    "\n",
    "mercedes_car = Car(\"mercedes\", \"blue\", \"2342IOS\")\n",
    "\n",
    "tesla_car = Car(\"tesla\", \"grey\", \"1234ABC\")\n",
    "\n",
    "patata_car = Car(\"patta\", \"grey\", \"asdfasf\")\n",
    "\n",
    "\n",
    "#fail_car = Car()"
   ]
  },
  {
   "cell_type": "markdown",
   "metadata": {
    "id": "iQaVuL1u0AaT"
   },
   "source": [
    "#### Métodos y atributos"
   ]
  },
  {
   "cell_type": "markdown",
   "metadata": {
    "id": "rDSB0uwMne09"
   },
   "source": [
    "Una vez instanciado el objeto, podremos acceder a sus atributos y métodos, para ello usaremos la notación de python (que ya conocemos bastante bien) con la llamada a la variable, seguida de un punto y el nombre del atribtuo o método.\n",
    "\n",
    "\n",
    "\n",
    "```\n",
    "isnt_object.attribute\n",
    "inst_object.method()\n",
    "```\n",
    "\n",
    "Así vemos como acceder a los atributos de nuestros objetos ya instanciados:\n"
   ]
  },
  {
   "cell_type": "code",
   "execution_count": null,
   "metadata": {
    "id": "ULqTzjoGn2eA"
   },
   "outputs": [],
   "source": [
    "# method call\n",
    "opel_car.print_model()\n",
    "\n",
    "# attribute_call\n",
    "print(mercedes_car.color)\n",
    "\n",
    "print(tesla_car.id)"
   ]
  },
  {
   "cell_type": "markdown",
   "metadata": {
    "id": "U61PU9FLoCYi"
   },
   "source": [
    "En las llamadas a métodos, pese a que tenga como primer argumento *self* no es necesario declararlo, ya que como comentamos es una palabra reservada de Python para declarar una función como un método de clase.\n",
    "\n",
    "Por otro lado, podremos modificar atributos de clase normalmente:"
   ]
  },
  {
   "cell_type": "code",
   "execution_count": null,
   "metadata": {
    "id": "aQpOIJsDobEs"
   },
   "outputs": [],
   "source": [
    "opel_car.color = \"green\"\n",
    "opel_car.print_color()\n"
   ]
  },
  {
   "cell_type": "markdown",
   "metadata": {
    "id": "3DDV303CMYQw"
   },
   "source": [
    "## I/O"
   ]
  },
  {
   "cell_type": "markdown",
   "metadata": {
    "id": "xhu5jOf4XvED"
   },
   "source": [
    "**Print**\n",
    "\n"
   ]
  },
  {
   "cell_type": "code",
   "execution_count": null,
   "metadata": {
    "id": "cGF4Wx5RYKQB"
   },
   "outputs": [],
   "source": [
    "print(\"Hello World\")\n",
    "test = \"Other\"\n",
    "print(test)"
   ]
  },
  {
   "cell_type": "markdown",
   "metadata": {
    "id": "NHKs7z92YPpm"
   },
   "source": [
    "**Input**\n",
    "\n"
   ]
  },
  {
   "cell_type": "code",
   "execution_count": null,
   "metadata": {
    "id": "lm-16QdvYsd3"
   },
   "outputs": [],
   "source": [
    "name = input(\"Say your name:\")\n",
    "\n",
    "print(f\"Hello, {name}\")"
   ]
  },
  {
   "cell_type": "markdown",
   "metadata": {
    "id": "ygvGWnN0ZXqw"
   },
   "source": [
    "**Open**\n",
    "\n",
    "La función open permite abrir determinados archivos, su sintaxis es la siguiente:\n",
    "\n",
    "\n",
    "\n",
    "```\n",
    "> f = open('workfile', [flag])\n",
    "```\n",
    "\n",
    "\n",
    "\n",
    "\n",
    "\n",
    "\n",
    "\n"
   ]
  },
  {
   "cell_type": "markdown",
   "metadata": {
    "id": "gDGnS3Y3bw0h"
   },
   "source": [
    "**File**\n",
    "\n",
    "La función **open** nos devuelve un objeto de tipo **file**. Con este objeto podremos realizar las siguientes operaciones:\n",
    "\n",
    "\n",
    "\n",
    "*   **file.closed** -> Nos devuelve si el archivo está cerrado.\n",
    "*   **file.mode** -> Nos indica el tipo de acceso.\n",
    "*   **file.name** -> Devuelve el nombre del archivo.\n",
    "*   **file.close()** -> Función que cierra y el archivo y serializa los cambios.\n",
    "\n"
   ]
  },
  {
   "cell_type": "markdown",
   "metadata": {
    "id": "hMUXgDXBjDy3"
   },
   "source": [
    "**CSV**\n",
    "\n",
    "Uno de los formatos más comúnes dentro del mundo de Data Science es organizar los datos en CSV delimitados, para ello hay que usar la función **open** y hacer un cast a **csvfile** y llamar al lector de csv, como en el siguiente ejemplo:\n",
    "\n",
    "\n",
    "\n",
    "```\n",
    "import csv\n",
    "\n",
    "with open('data.csv') as csvfile:\n",
    "        reader = csv.DictReader(csvfile, delimiter=';')\n",
    "        for row in reader:\n",
    "```\n",
    "\n"
   ]
  },
  {
   "cell_type": "markdown",
   "metadata": {
    "id": "lBZP_wzqMZ0g"
   },
   "source": [
    "## Excepciones"
   ]
  },
  {
   "cell_type": "markdown",
   "metadata": {
    "id": "YZzbustvjBNe"
   },
   "source": [
    "Los tipos de excepciones que podemos encontrar son enormes y están recogidos en la [documentación oficial de Python](https://docs.python.org/3.7/library/exceptions.html).\n",
    "\n",
    "La sintaxis para el tratamiento de errores es la siguiente:\n",
    "\n",
    "\n",
    "\n",
    "```\n",
    "try:\n",
    "    Aquí va el código que queremos controlar, siempre identado...\n",
    "    .......\n",
    "    .......\n",
    "except Exception1 as e:\n",
    "    Aquí tratar la excepción 1 que hemos renombrado a \"e\"\n",
    "except Exception2:\n",
    "    Puede ocurrir otro tipo de excepción\n",
    "    .........\n",
    "    .........\n",
    "else:\n",
    "    Este bloque se ejecuta si no ha habido errores.\n",
    "    \n",
    "```\n",
    "\n",
    "\n"
   ]
  },
  {
   "cell_type": "code",
   "execution_count": null,
   "metadata": {
    "id": "QjT_7ntbnJZW"
   },
   "outputs": [],
   "source": [
    "dict_test = {\"hello\": \"hello\", \"world\": \"world\"}\n",
    "\n",
    "try:\n",
    "  test = dict_test[\"other\"]\n",
    "except KeyError as e:\n",
    "  print(e)\n",
    "  test = \"Not found\"\n",
    "\n",
    "print(f\"We reach this part of the program with {test}\")"
   ]
  },
  {
   "cell_type": "markdown",
   "metadata": {
    "id": "odTsb_9-MWgx"
   },
   "source": [
    "<a name=\"gestion-modulos\"></a>\n",
    "## Gestión de módulos"
   ]
  },
  {
   "cell_type": "markdown",
   "metadata": {
    "id": "VpeEpgUOfRyt"
   },
   "source": [
    "Un módulo es un fichero Python donde se pueden definir funciones, clases y variables que puedes referenciar y añadir a otro código.\n",
    "\n",
    "Este código puede importarse usando la palabra reservada **import** o **from** con el siguiente formato:\n",
    "\n",
    "\n",
    "\n",
    "```\n",
    "import module1, module2.....\n",
    "from module1 import [reference]\n",
    "```\n",
    "\n"
   ]
  },
  {
   "cell_type": "code",
   "execution_count": null,
   "metadata": {
    "id": "RbUgf9eMZtIG"
   },
   "outputs": [],
   "source": [
    "# Import module\n",
    "import time\n",
    "\n",
    "# call module by callint it's name\n",
    "seconds = time.time()\n",
    "\n",
    "print(seconds)"
   ]
  },
  {
   "cell_type": "markdown",
   "metadata": {
    "id": "moQvhonJaVKj"
   },
   "source": [
    "Por otro lado, con la notación **from ... import** podemos importar atributos específicos de un módulo al *namespace* actual."
   ]
  },
  {
   "cell_type": "code",
   "execution_count": null,
   "metadata": {
    "id": "7hLPdqafahN4"
   },
   "outputs": [],
   "source": [
    "from time import time\n",
    "\n",
    "seconds = time()\n",
    "\n",
    "print(seconds)"
   ]
  },
  {
   "cell_type": "markdown",
   "metadata": {
    "id": "rt9pnufaGv-M"
   },
   "source": [
    "[Aquí](https://docs.python.org/3/tutorial/modules.html) podéis encontrar más información acerca de módulos."
   ]
  },
  {
   "cell_type": "markdown",
   "metadata": {
    "id": "NUYjlTtFMnuw"
   },
   "source": [
    "## Librerías de Tratamiento de Datos"
   ]
  },
  {
   "cell_type": "markdown",
   "metadata": {
    "id": "HGH7CsuFtn4O"
   },
   "source": [
    "\n",
    "\n",
    "*   [Numpy](https://www.numpy.org/) -> Librería destinada a la manipulación de matrices, especialmente dentro de operaciones matemáticas.\n",
    "*   [SciPy](https://www.scipy.org/) -> Otra librería de Python orientada a computación técnica y científica.\n",
    "*   [Matplotlib](https://matplotlib.org/) -> Muy útil para visualización de datos.\n",
    "*   [Pandas](https://pandas.pydata.org/) -> Especializada en manipulación de datos y posterior análisis.\n",
    "*   [Scikit-Learn](https://scikit-learn.org/stable/) -> Paquete de Python diseñado para dar acceso a algoritmos de Aprendizaje Automático bien conocidos dentro del código Python, a través de una API limpia y bien pensada. Ha sido construido por cientos de colaboradores de todo el mundo y se usa en la industria y el mundo académico.\n",
    "Scikit-Learn esá basada en las librerías **NumPy** (Numerical Python) y **SciPy** (Scientific Python), que permiten la computación numérica y científica eficiente en Python.\n",
    "\n",
    "\n"
   ]
  },
  {
   "cell_type": "markdown",
   "metadata": {
    "id": "4B8fo5O0xiCB"
   },
   "source": [
    "### Tratamiento de datos"
   ]
  },
  {
   "cell_type": "markdown",
   "metadata": {
    "id": "LQYfAw432MNb"
   },
   "source": [
    "Vamos a ver como procesar en Colab csv, utilizando una de las librerías antes mencionadas.\n",
    "\n",
    "Para ello vamos a usar el dataset de [abalones](https://es.wikipedia.org/wiki/Haliotis) de la [uci](https://archive.ics.uci.edu/ml/datasets/abalone).\n",
    "\n",
    "Para ello, descargar el archivo **Abalones** de la carpeta principal.\n",
    "\n",
    "Para importar los archivos, vamos a utilizar la librería `google.colab`, que permite controlar aspectos del cuaderno, para forzar la carga de archivos. Posteriormente con la librería `io` serializaremos estos datos.\n",
    "\n",
    "En un código ejecutado en una máquina este paso no sería necesario, podríamos usar `pd.read_csv` en la carpeta donde se encontrase nuestro archivo."
   ]
  },
  {
   "cell_type": "code",
   "execution_count": null,
   "metadata": {
    "id": "aFFn8U94xWIS"
   },
   "outputs": [],
   "source": [
    "import pandas as pd\n",
    "from google.colab import files\n",
    "import io\n",
    "\n",
    "uploaded = files.upload()\n",
    "abalone_train = pd.read_csv(io.BytesIO(uploaded['abalone_train.csv']), names=[\"Length\", \"Diameter\", \"Height\", \"Whole weight\", \"Shucked weight\",\n",
    "           \"Viscera weight\", \"Shell weight\", \"Age\"])\n",
    "\n",
    "abalone_train.head()"
   ]
  },
  {
   "cell_type": "markdown",
   "metadata": {
    "id": "M4AUZGQUHos9"
   },
   "source": [
    "# Ejemplo de Red Neuronal en Python"
   ]
  },
  {
   "cell_type": "markdown",
   "metadata": {
    "id": "lvP4lVqbNcl9"
   },
   "source": [
    "## Introducción"
   ]
  },
  {
   "cell_type": "markdown",
   "metadata": {
    "id": "uF3SO-SjJ4PI"
   },
   "source": [
    "En este ejemplo veremos un modelo de Red Neuronal usando el dataset de Dígitos de MNIST. El objetivo es familiarizarnos con el código en Python, no es necesario saber lo que está pasando pero haremos una introducción para añadir contexto.\n",
    "\n",
    "Algunas de las figuras que contienen el dataset serían las siguientes.\n",
    "\n",
    "![MNist](https://upload.wikimedia.org/wikipedia/commons/2/27/MnistExamples.png)\n",
    "\n",
    "El objetivo de este modelo consiste en encontrar pesos que nos asegure la evidencia de la existencia de cada uno de los dígitos, sin usar la información espacial del pixel.\n",
    "\n",
    "![NeuralNetworkMNISTLow](https://user-images.githubusercontent.com/16117276/221560697-ff9c2629-f394-4a7a-9ec2-f8733a06df03.gif)\n",
    "\n",
    "*Explicación de [3Blue1Brown](https://youtu.be/aircAruvnKk)*\n",
    "\n",
    "\n",
    "Es por ello que para el siguiente ejemplo usaremos Keras para:\n",
    "\n",
    "\n",
    "1. Extraer datos para el entrenamiento y la evaluación.\n",
    "2. Construir una red neuronal que clasifique imágenes.\n",
    "3. Añadir capas ocultas para su entrenamiento.\n",
    "4. Entrenar esa red neuronal.\n",
    "5. Evaluar la precisión del modelo.\n",
    "\n",
    "El código que vamos a utilizar es el siguiente:"
   ]
  },
  {
   "cell_type": "code",
   "execution_count": 1,
   "metadata": {
    "id": "A39X4o29J7yf"
   },
   "outputs": [
    {
     "name": "stdout",
     "output_type": "stream",
     "text": [
      "Downloading data from https://storage.googleapis.com/tensorflow/tf-keras-datasets/mnist.npz\n",
      "11490434/11490434 [==============================] - 1s 0us/step\n",
      "Epoch 1/5\n",
      "  74/1875 [>.............................] - ETA: 1s - loss: 1.0971 - accuracy: 0.6744  "
     ]
    },
    {
     "name": "stderr",
     "output_type": "stream",
     "text": [
      "2023-08-27 21:49:02.682866: W tensorflow/tsl/platform/profile_utils/cpu_utils.cc:128] Failed to get CPU frequency: 0 Hz\n"
     ]
    },
    {
     "name": "stdout",
     "output_type": "stream",
     "text": [
      "1875/1875 [==============================] - 1s 674us/step - loss: 0.2979 - accuracy: 0.9122\n",
      "Epoch 2/5\n",
      "1875/1875 [==============================] - 1s 670us/step - loss: 0.1448 - accuracy: 0.9575\n",
      "Epoch 3/5\n",
      "1875/1875 [==============================] - 1s 677us/step - loss: 0.1100 - accuracy: 0.9671\n",
      "Epoch 4/5\n",
      "1875/1875 [==============================] - 1s 671us/step - loss: 0.0886 - accuracy: 0.9723\n",
      "Epoch 5/5\n",
      "1875/1875 [==============================] - 1s 650us/step - loss: 0.0758 - accuracy: 0.9762\n",
      "313/313 - 0s - loss: 0.0752 - accuracy: 0.9770 - 173ms/epoch - 552us/step\n"
     ]
    },
    {
     "data": {
      "text/plain": [
       "[0.07520347833633423, 0.9769999980926514]"
      ]
     },
     "execution_count": 1,
     "metadata": {},
     "output_type": "execute_result"
    }
   ],
   "source": [
    "import tensorflow as tf\n",
    "mnist = tf.keras.datasets.mnist\n",
    "\n",
    "(x_train, y_train), (x_test, y_test) = mnist.load_data()\n",
    "x_train, x_test = x_train / 255.0, x_test / 255.0\n",
    "\n",
    "model = tf.keras.models.Sequential([\n",
    "  tf.keras.layers.Flatten(input_shape=(28, 28)),\n",
    "  tf.keras.layers.Dense(128, activation='relu'),\n",
    "  tf.keras.layers.Dropout(0.2),\n",
    "  tf.keras.layers.Dense(10)\n",
    "])\n",
    "\n",
    "loss_fn = tf.keras.losses.SparseCategoricalCrossentropy(from_logits=True)\n",
    "model.compile(optimizer='adam',\n",
    "              loss=loss_fn,\n",
    "              metrics=['accuracy'])\n",
    "\n",
    "model.fit(x_train, y_train, epochs=5)\n",
    "\n",
    "model.evaluate(x_test,  y_test, verbose=2)"
   ]
  },
  {
   "cell_type": "markdown",
   "metadata": {
    "id": "kHllk18ON-ez"
   },
   "source": [
    "## Desarrollo del modelo"
   ]
  },
  {
   "cell_type": "markdown",
   "metadata": {
    "id": "HfWL8RXgOEpV"
   },
   "source": [
    "Vamos ahora a ver el modelo en más profundidad, analizando la sintaxis de Python que usamos en el ejemplo."
   ]
  },
  {
   "cell_type": "markdown",
   "metadata": {
    "id": "BCJeUNh1TwsD"
   },
   "source": [
    "### Importar dependencias\n",
    "\n",
    "Lo primero sería importar tensorflow y preparar el dataset de MNIST, para ello vamos a acceder al módulo `mnist`. Tensorflow tiene una gran variedad de datos de catalogo para entrenar nuestros modelos, puedes consultarlos [aquí](https://www.tensorflow.org/datasets/catalog/overview). En este ejemplo vamos a usar la librería de **tensorflow** y el dataset de **mnist**, que asignaremos a una nueva variable.\n",
    "\n",
    "Para ello, vamos a hacer uso de lo siguiente:\n",
    "\n",
    "- [Análisis lexico](#analisis-lexico)\n",
    "- [Gestión de modulos](#gestion-modulos)"
   ]
  },
  {
   "cell_type": "code",
   "execution_count": null,
   "metadata": {
    "id": "eQngQR6DHrol"
   },
   "outputs": [],
   "source": [
    "import tensorflow as tf\n",
    "mnist = tf.keras.datasets.mnist\n"
   ]
  },
  {
   "cell_type": "markdown",
   "metadata": {
    "id": "mKtOree1NJcl"
   },
   "source": [
    "### Establecer los datos de entrenamiento\n",
    "\n",
    "El siguiente paso será establecer los datos para entrenamiento y test, en este caso convertiremos los datos de enteros a numeros con coma flotante, para ello vamos a llamar a una **función** dentro del fichero del paquete mnist, que nos devolverán unas **tuplas** que desempaquetaremos en **cuatro variables**, cada una formada por una **lista**.\n",
    "\n",
    "- [Variables, Listas y Tuplas](#variables)\n",
    "- [Funciones](#funciones)\n",
    "- [Operadores](#operadores)"
   ]
  },
  {
   "cell_type": "code",
   "execution_count": null,
   "metadata": {
    "id": "_mUHl4EJNYJk"
   },
   "outputs": [],
   "source": [
    "(x_train, y_train), (x_test, y_test) = mnist.load_data()\n",
    "x_train, x_test = x_train / 255.0, x_test / 255.0"
   ]
  },
  {
   "cell_type": "markdown",
   "metadata": {
    "id": "iKdd7VQNUNEn"
   },
   "source": [
    "### Crear el modelo\n",
    "\n",
    "Ahora constuiremos el modelo con la API ```tf.keras.Sequiential```, como podemos observar, podemos declarar las capas en variables o directamente instanciarlas en la propia declaración del modelo. Elegiremos un optimizador y una función de perdida. El modelo será un **objeto** que crearemos instanciando una **clase**.\n",
    "\n",
    "- [Orientación a objetos](#orientacion-objetos)"
   ]
  },
  {
   "cell_type": "code",
   "execution_count": null,
   "metadata": {
    "id": "LBDYqG0yUXT7"
   },
   "outputs": [],
   "source": [
    "# Se pueden asignar a variables y después pasarlas como argumentos\n",
    "l0 = tf.keras.layers.Flatten(input_shape=(28, 28))\n",
    "\n",
    "# O directamente instanciarlas como argumentos\n",
    "model = tf.keras.models.Sequential([\n",
    "  l0,\n",
    "  tf.keras.layers.Dense(128, activation='relu'),\n",
    "  tf.keras.layers.Dropout(0.2),\n",
    "  tf.keras.layers.Dense(10)\n",
    "])"
   ]
  },
  {
   "cell_type": "markdown",
   "metadata": {
    "id": "9gnKfTnTwIyM"
   },
   "source": [
    "Vamos a ver la información de las capas antes del entrenamiento, para ello vamos a crear nuestra propia [funcion](#funciones), para ello vamos a iterar sobre las distintas capas del modelo.\n",
    "\n",
    "- [Control del flujo](#control-flujo)"
   ]
  },
  {
   "cell_type": "code",
   "execution_count": null,
   "metadata": {
    "id": "48TA1Cq-wNIB"
   },
   "outputs": [],
   "source": [
    "def display_layers(layers):\n",
    "  for index, layer in enumerate(layers):\n",
    "    print(f\"-------------- {layer.name} --------------\")\n",
    "    print(layer.weights)\n",
    "    print(f\"------------------------------\")\n",
    "\n",
    "display_layers(model.layers)"
   ]
  },
  {
   "cell_type": "markdown",
   "metadata": {
    "id": "_9Eai3aFhYOc"
   },
   "source": [
    "También se puede ver un resumen del modelo de forma sencilla con este **método** del **objeto** model."
   ]
  },
  {
   "cell_type": "code",
   "execution_count": null,
   "metadata": {
    "id": "2YQSy5knhb51"
   },
   "outputs": [],
   "source": [
    "model.summary()"
   ]
  },
  {
   "cell_type": "markdown",
   "metadata": {
    "id": "n08kZ_fCZrF8"
   },
   "source": [
    "### Función de perdida\n",
    "\n",
    "La función de perdida `losses.SparseCategoricalCrossentropy` coge un vector de logits y un Inidce `True`y devuelve una perdida escalar por cada ejemplo. En este caso estamos instanciando otro **objeto** y simplemente le indicamos que usaremos **logits** (probabilidades) como entrada."
   ]
  },
  {
   "cell_type": "code",
   "execution_count": null,
   "metadata": {
    "id": "4Rikya3GVXsh"
   },
   "outputs": [],
   "source": [
    "loss_fn = tf.keras.losses.SparseCategoricalCrossentropy(from_logits=True)"
   ]
  },
  {
   "cell_type": "markdown",
   "metadata": {
    "id": "uLbNNk1DN6vH"
   },
   "source": [
    "### Compilar el modelo\n",
    "\n",
    "Vamos a configurar el modelo para su entrenamiento, como vimos en el ejemplo anterior vamos a hacer uso de una **función de optimización** y una **función de pérdida** para entrenar el modelo.\n",
    "\n",
    "Además, vamos a introducir el concepto de **métricas**, básicamente son funciónes similares a la función de perdida, que permiten evaluar la precisión del modelo, pero a diferencia de la función de perdida, no es usada en el entrenamiento.\n",
    "\n",
    "Para ello otra vez llamarémos a um **método** del objeto **model** y pasaremos los atributos necesarios.\n"
   ]
  },
  {
   "cell_type": "code",
   "execution_count": null,
   "metadata": {
    "id": "dQGVX2WtVxLp"
   },
   "outputs": [],
   "source": [
    "model.compile(optimizer='adam',\n",
    "              loss=loss_fn,\n",
    "              metrics=['accuracy'])"
   ]
  },
  {
   "cell_type": "markdown",
   "metadata": {
    "id": "96oxEXEkoEZV"
   },
   "source": [
    "### Entrenar el modelo\n",
    "\n",
    "Vamos a entrenar el modelo con los datos de entrenamiento llamando al método `fit`.\n",
    "\n",
    "Símplemente vamos a coger como parámetros las **features** (`x_train`) las **labels** (`y_train`), los ciclos de cada entrenamiento (`epochs`) y con ello nos va a devolver un objeto `history` con el que medir el entrenamiento.\n",
    "\n",
    "Ahora llamaremos a otro de los **métodos** del objeto para entrenar, pasando las variables de **features** y **labels**."
   ]
  },
  {
   "cell_type": "code",
   "execution_count": null,
   "metadata": {
    "id": "AVpBTdBxV6hg"
   },
   "outputs": [],
   "source": [
    "history = model.fit(x_train, y_train, epochs=5)"
   ]
  },
  {
   "cell_type": "markdown",
   "metadata": {
    "id": "mOv2eLLWwAAi"
   },
   "source": [
    "Así, los pesos de las capas quedarían así:"
   ]
  },
  {
   "cell_type": "code",
   "execution_count": null,
   "metadata": {
    "id": "DStXiTKbp5km"
   },
   "outputs": [],
   "source": [
    "display_layers(model.layers)\n",
    "\n"
   ]
  },
  {
   "cell_type": "markdown",
   "metadata": {
    "id": "HnEBOOYfoiAK"
   },
   "source": [
    "### Mostrar las estadísticas del entrenamiento.\n",
    "\n",
    "El método `fit` devuelve un objeto `history`. Podemos usar este objeto para mostrar una gráfica con la variación de la **función de perdida** entre cada *epoch*. Una perdida grande significa que la predicción está muy lejos del resultado.\n",
    "\n",
    "Vamos a usar [Matplotlib](https://matplotlib.org/) para visualizar el resultado. Como podemos ver, el modelo mejora rápidamente para luego frenarse al final de las ejecuciones.\n",
    "\n",
    "Para ello volveremos a **importar un módulo**, y de ahí llamar a las **variables** y **funciones** que necesitemos.\n"
   ]
  },
  {
   "cell_type": "code",
   "execution_count": null,
   "metadata": {
    "id": "TTeYNv_DoiAL"
   },
   "outputs": [],
   "source": [
    "import matplotlib.pyplot as plt\n",
    "plt.xlabel('Epoch Number')\n",
    "plt.ylabel(\"Loss Magnitude\")\n",
    "plt.plot(history.history['loss'])"
   ]
  },
  {
   "cell_type": "markdown",
   "metadata": {
    "id": "FdrkFgeSV9zC"
   },
   "source": [
    "### Mostrar el desempeño del modelo\n",
    "\n",
    "El **método** `evaluate` del **objeto** `model` comprueba el desempeño del modelo. Vamos ahora a usar un **flujo condicional** para comprobar si la precisión es de más de un 90%, y si es así imprimir un mensaje en pantalla.\n",
    "\n",
    "- [Control del flujo](#control-flujo)"
   ]
  },
  {
   "cell_type": "code",
   "execution_count": null,
   "metadata": {
    "id": "e6EhKqb9WIa-"
   },
   "outputs": [],
   "source": [
    "evaluation = model.evaluate(x_test,  y_test, verbose=2)\n",
    "model_accuracy = evaluation[1]\n",
    "\n",
    "if(model_accuracy > 0.9):\n",
    "  print(\"Nuestro modelo acierta más del 90%\")\n",
    "else:\n",
    "  print(\"Nuestro modelo tiene una precisión por debajo del 90%, repetir el proceso\")"
   ]
  },
  {
   "cell_type": "markdown",
   "metadata": {
    "id": "A7Hor0IBWLtO"
   },
   "source": [
    "Ahora el modelo está entrenado para tener una probabilidad del 97%"
   ]
  }
 ],
 "metadata": {
  "colab": {
   "collapsed_sections": [
    "hwZbdwTZydkS",
    "E0EyqYFI6LUW",
    "M4AUZGQUHos9"
   ],
   "provenance": [],
   "toc_visible": true
  },
  "kernelspec": {
   "display_name": "Python 3 (ipykernel)",
   "language": "python",
   "name": "python3"
  },
  "language_info": {
   "codemirror_mode": {
    "name": "ipython",
    "version": 3
   },
   "file_extension": ".py",
   "mimetype": "text/x-python",
   "name": "python",
   "nbconvert_exporter": "python",
   "pygments_lexer": "ipython3",
   "version": "3.11.4"
  }
 },
 "nbformat": 4,
 "nbformat_minor": 1
}
